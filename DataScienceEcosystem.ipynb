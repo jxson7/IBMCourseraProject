{
 "cells": [
  {
   "cell_type": "markdown",
   "id": "33dad1db",
   "metadata": {},
   "source": [
    "# Data Science Tools and Ecosystem"
   ]
  },
  {
   "cell_type": "markdown",
   "id": "a6858ce1",
   "metadata": {},
   "source": [
    "In this notebook, Data Science Tools and Ecosystem are summarized."
   ]
  },
  {
   "cell_type": "markdown",
   "id": "4458b57a",
   "metadata": {},
   "source": [
    "Some of the popular languages that Data Scientists use are: "
   ]
  },
  {
   "cell_type": "markdown",
   "id": "56a734e5",
   "metadata": {},
   "source": [
    "1. Python\n",
    "2. SQL\n",
    "3. R\n",
    "4. Julia\n",
    "5. MatLab\n",
    "6. C++ \n",
    "7. Java"
   ]
  },
  {
   "cell_type": "markdown",
   "id": "bd617f42",
   "metadata": {},
   "source": [
    "Some of the commonly used libraries used by Data Scientists include:"
   ]
  },
  {
   "cell_type": "markdown",
   "id": "8d2c8cc9",
   "metadata": {},
   "source": [
    "1. Pandas\n",
    "2. NumPy\n",
    "3. Matplotlib\n",
    "4. Seaborn\n",
    "5. Scikit-Learn\n",
    "6. TensorFlow\n",
    "7. PyTorch\n",
    "8. XGBoost"
   ]
  },
  {
   "cell_type": "markdown",
   "id": "5114a60d",
   "metadata": {},
   "source": [
    "| Data Science Tools |\n",
    "|-------------------|\n",
    "| Jupyter Notebook  |\n",
    "| RStudio           |\n",
    "| Visual Studio Code            |\n"
   ]
  },
  {
   "cell_type": "markdown",
   "id": "393d8e9f",
   "metadata": {},
   "source": [
    "### Below are a few examples of evaluating arithmetic expressions in Python"
   ]
  },
  {
   "cell_type": "code",
   "execution_count": 2,
   "id": "dbfb7b33",
   "metadata": {},
   "outputs": [
    {
     "data": {
      "text/plain": [
       "17"
      ]
     },
     "execution_count": 2,
     "metadata": {},
     "output_type": "execute_result"
    }
   ],
   "source": [
    "(3*4)+5"
   ]
  },
  {
   "cell_type": "code",
   "execution_count": 9,
   "id": "4741648e",
   "metadata": {},
   "outputs": [
    {
     "name": "stdout",
     "output_type": "stream",
     "text": [
      "200 Minutes to Hours:  3.3333333333333335 Hours\n"
     ]
    }
   ],
   "source": [
    "## This will convert 200 minutes to hours by dividing by 60. \n",
    "x = 200\n",
    "Ans = x/60\n",
    "print(x, \"Minutes to Hours: \", Ans, \"Hours\")"
   ]
  },
  {
   "cell_type": "markdown",
   "id": "20a5ee56",
   "metadata": {},
   "source": [
    "**Objectives:** "
   ]
  },
  {
   "cell_type": "markdown",
   "id": "cfe09ed2",
   "metadata": {},
   "source": [
    "- Lists Popular Languages for Data Science\n",
    "- Lists Commomly Used Libraries by Data Scientists\n",
    "- Demonstrates Evaluating Arithmetic Expressions in Python"
   ]
  },
  {
   "cell_type": "markdown",
   "id": "254b6e39",
   "metadata": {},
   "source": [
    "## Author\n",
    "Jason Jay Dookarun"
   ]
  }
 ],
 "metadata": {
  "kernelspec": {
   "display_name": "Python 3 (ipykernel)",
   "language": "python",
   "name": "python3"
  },
  "language_info": {
   "codemirror_mode": {
    "name": "ipython",
    "version": 3
   },
   "file_extension": ".py",
   "mimetype": "text/x-python",
   "name": "python",
   "nbconvert_exporter": "python",
   "pygments_lexer": "ipython3",
   "version": "3.9.7"
  }
 },
 "nbformat": 4,
 "nbformat_minor": 5
}
