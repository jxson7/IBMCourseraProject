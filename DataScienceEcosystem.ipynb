{
 "cells": [
  {
   "cell_type": "markdown",
   "id": "2d78c653",
   "metadata": {},
   "source": [
    "# Data Science Tools and Ecosystem"
   ]
  },
  {
   "cell_type": "markdown",
   "id": "5c17ef68",
   "metadata": {},
   "source": [
    "In this notebook, Data Science Tools and Ecosystem are summarized."
   ]
  },
  {
   "cell_type": "markdown",
   "id": "b189e6ae",
   "metadata": {},
   "source": [
    "Some of the popular languages that Data Scientists use are: "
   ]
  },
  {
   "cell_type": "markdown",
   "id": "1014566b",
   "metadata": {},
   "source": [
    "1. Python\n",
    "2. SQL\n",
    "3. R\n",
    "4. Julia\n",
    "5. MatLab\n",
    "6. C++ \n",
    "7. Java"
   ]
  },
  {
   "cell_type": "markdown",
   "id": "3c600822",
   "metadata": {},
   "source": [
    "Some of the commonly used libraries used by Data Scientists include:"
   ]
  },
  {
   "cell_type": "markdown",
   "id": "1b450edf",
   "metadata": {},
   "source": [
    "1. Pandas\n",
    "2. NumPy\n",
    "3. Matplotlib\n",
    "4. Seaborn\n",
    "5. Scikit-Learn\n",
    "6. TensorFlow\n",
    "7. PyTorch\n",
    "8. XGBoost"
   ]
  },
  {
   "cell_type": "markdown",
   "id": "46a1233f",
   "metadata": {},
   "source": [
    "| Data Science Tools |\n",
    "|-------------------|\n",
    "| Jupyter Notebook  |\n",
    "| RStudio           |\n",
    "| Visual Studio Code            |\n"
   ]
  },
  {
   "cell_type": "markdown",
   "id": "d6be31e4",
   "metadata": {},
   "source": [
    "### Below are a few examples of evaluating arithmetic expressions in Python"
   ]
  },
  {
   "cell_type": "code",
   "execution_count": 2,
   "id": "ec14ba09",
   "metadata": {},
   "outputs": [
    {
     "data": {
      "text/plain": [
       "17"
      ]
     },
     "execution_count": 2,
     "metadata": {},
     "output_type": "execute_result"
    }
   ],
   "source": [
    "(3*4)+5"
   ]
  },
  {
   "cell_type": "code",
   "execution_count": 9,
   "id": "bb9f3396",
   "metadata": {},
   "outputs": [
    {
     "name": "stdout",
     "output_type": "stream",
     "text": [
      "200 Minutes to Hours:  3.3333333333333335 Hours\n"
     ]
    }
   ],
   "source": [
    "## This will convert 200 minutes to hours by dividing by 60. \n",
    "x = 200\n",
    "Ans = x/60\n",
    "print(x, \"Minutes to Hours: \", Ans, \"Hours\")"
   ]
  },
  {
   "cell_type": "markdown",
   "id": "b679a066",
   "metadata": {},
   "source": [
    "**Objectives:** "
   ]
  },
  {
   "cell_type": "markdown",
   "id": "4a252162",
   "metadata": {},
   "source": [
    "- Lists Popular Languages for Data Science\n",
    "- Lists Commomly Used Libraries by Data Scientists\n",
    "- Demonstrates Evaluating Arithmetic Expressions in Python"
   ]
  },
  {
   "cell_type": "markdown",
   "id": "ca8fa4ef",
   "metadata": {},
   "source": [
    "## Author\n",
    "Jason Jay Dookarun"
   ]
  },
  {
   "cell_type": "markdown",
   "id": "c99d72fa",
   "metadata": {},
   "source": [
    "Repo Link: https://github.com/jxson7/IBMCourseraProject/blob/main/DataScienceEcosystem.ipynb"
   ]
  }
 ],
 "metadata": {
  "kernelspec": {
   "display_name": "Python 3 (ipykernel)",
   "language": "python",
   "name": "python3"
  },
  "language_info": {
   "codemirror_mode": {
    "name": "ipython",
    "version": 3
   },
   "file_extension": ".py",
   "mimetype": "text/x-python",
   "name": "python",
   "nbconvert_exporter": "python",
   "pygments_lexer": "ipython3",
   "version": "3.9.7"
  }
 },
 "nbformat": 4,
 "nbformat_minor": 5
}
